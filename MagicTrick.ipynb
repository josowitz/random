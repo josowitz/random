{
 "cells": [
  {
   "cell_type": "code",
   "execution_count": 281,
   "metadata": {},
   "outputs": [],
   "source": [
    "import numpy as np\n",
    "import math\n",
    "import itertools\n",
    "from collections import Counter\n",
    "from pprint import pprint"
   ]
  },
  {
   "cell_type": "markdown",
   "metadata": {},
   "source": [
    "the idea is that there are exactly 62 unique combinations of n=6 with no repition and no order\n",
    "\n",
    "$\\dfrac{n!}{k!(n - k)!}$ \n",
    "\n",
    "    k=1: 6\n",
    "    k=2: 15\n",
    "    k=3: 20\n",
    "    k=4: 15\n",
    "    k=5: 6\n",
    "    + --------\n",
    "    62\n",
    "\n",
    "so we can assign n=6 boxes and 62 distinct items or numbers, that will be allocated to each unique box combination"
   ]
  },
  {
   "cell_type": "code",
   "execution_count": 295,
   "metadata": {},
   "outputs": [
    {
     "data": {
      "text/plain": [
       "{1: [], 2: [], 3: [], 4: [], 5: [], 6: []}"
      ]
     },
     "execution_count": 295,
     "metadata": {},
     "output_type": "execute_result"
    }
   ],
   "source": [
    "# create our 6 boxes\n",
    "boxDict = {i:[] for i in range(1,7)}\n",
    "boxDict"
   ]
  },
  {
   "cell_type": "code",
   "execution_count": 296,
   "metadata": {},
   "outputs": [
    {
     "data": {
      "text/plain": [
       "array([ 1,  2,  3,  4,  5,  6,  7,  8,  9, 10, 11, 12, 13, 14, 15, 16, 17,\n",
       "       18, 19, 20, 21, 22, 23, 24, 25, 26, 27, 28, 29, 30, 31, 32, 33, 34,\n",
       "       35, 36, 37, 38, 39, 40, 41, 42, 43, 44, 45, 46, 47, 48, 49, 50, 51,\n",
       "       52, 53, 54, 55, 56, 57, 58, 59, 60, 61, 62])"
      ]
     },
     "execution_count": 296,
     "metadata": {},
     "output_type": "execute_result"
    }
   ],
   "source": [
    "# our numbers to choose from, using 61 and 62 instead of stars\n",
    "numbers = np.array(np.arange(1,63))\n",
    "numbers"
   ]
  },
  {
   "cell_type": "code",
   "execution_count": 297,
   "metadata": {},
   "outputs": [
    {
     "data": {
      "text/plain": [
       "array([ 4, 21, 55, 31, 44, 45, 32, 47, 10, 46, 41, 27, 59, 37, 28, 23, 54,\n",
       "       30, 61, 57, 34, 33, 35, 17, 52, 62, 58, 43,  6, 20,  5, 12, 14,  9,\n",
       "       26, 56, 53, 60, 25, 40, 24, 16, 39,  1, 19, 22,  3, 11, 42, 50, 18,\n",
       "       36,  2, 15, 48, 38,  7, 13, 51,  8, 29, 49])"
      ]
     },
     "execution_count": 297,
     "metadata": {},
     "output_type": "execute_result"
    }
   ],
   "source": [
    "# we can make random choices for the order of our numbers to allocate to the combination of boxes\n",
    "# in principal it's easiest to keep these sorted from low to high, because we will have scenarios\n",
    "# where for example for box 1, 2, 4 we will have multiple candidates\n",
    "# however, if the numbers are kept in order, the lowest number should automatically be the correct choice\n",
    "# I added a second boxDict to show the difference\n",
    "boxDictRandom = {i:[] for i in range(1,7)}\n",
    "random_choices = np.random.choice(numbers, size=len(numbers), replace=False)\n",
    "random_choices"
   ]
  },
  {
   "cell_type": "code",
   "execution_count": 298,
   "metadata": {},
   "outputs": [],
   "source": [
    "# we assign the numbers to the unique box combinations, k-> 1,...,5\n",
    "counter = 0\n",
    "for k in range(1,6):\n",
    "    for x in itertools.combinations(range(1,7), k):\n",
    "        for box in x:\n",
    "            boxDict[box].append(numbers[counter])\n",
    "            boxDictRandom[box].append(random_choices[counter])\n",
    "        counter += 1"
   ]
  },
  {
   "cell_type": "code",
   "execution_count": 301,
   "metadata": {},
   "outputs": [],
   "source": [
    "# prettify our box arrays\n",
    "boxDict = {i:np.resize(sorted(boxDict[i]), (6,5)).T for i in boxDict}\n",
    "boxDictRandom = {i:np.resize(sorted(boxDictRandom[i]), (6,5)).T for i in boxDictRandom}"
   ]
  },
  {
   "cell_type": "code",
   "execution_count": 302,
   "metadata": {},
   "outputs": [
    {
     "name": "stdout",
     "output_type": "stream",
     "text": [
      "{1: array([[ 1, 11, 26, 31, 46, 51],\n",
      "       [ 7, 22, 27, 42, 47, 57],\n",
      "       [ 8, 23, 28, 43, 48, 58],\n",
      "       [ 9, 24, 29, 44, 49, 59],\n",
      "       [10, 25, 30, 45, 50, 60]]),\n",
      " 2: array([[ 2, 15, 32, 37, 46, 55],\n",
      "       [ 7, 22, 33, 42, 47, 57],\n",
      "       [12, 23, 34, 43, 52, 58],\n",
      "       [13, 24, 35, 44, 53, 59],\n",
      "       [14, 25, 36, 45, 54, 60]]),\n",
      " 3: array([[ 3, 18, 32, 40, 49, 56],\n",
      "       [ 8, 22, 33, 42, 50, 57],\n",
      "       [12, 26, 34, 43, 52, 58],\n",
      "       [16, 27, 38, 44, 53, 59],\n",
      "       [17, 28, 39, 48, 54, 61]]),\n",
      " 4: array([[ 4, 20, 32, 41, 49, 56],\n",
      "       [ 9, 23, 35, 42, 51, 57],\n",
      "       [13, 26, 36, 45, 52, 58],\n",
      "       [16, 29, 38, 46, 53, 60],\n",
      "       [19, 30, 39, 48, 55, 61]]),\n",
      " 5: array([[ 5, 21, 33, 41, 50, 56],\n",
      "       [10, 24, 35, 43, 51, 57],\n",
      "       [14, 27, 37, 45, 52, 59],\n",
      "       [17, 29, 38, 47, 54, 60],\n",
      "       [19, 31, 40, 48, 55, 61]]),\n",
      " 6: array([[ 6, 21, 34, 41, 50, 56],\n",
      "       [11, 25, 36, 44, 51, 58],\n",
      "       [15, 28, 37, 46, 53, 59],\n",
      "       [18, 30, 39, 47, 54, 60],\n",
      "       [20, 31, 40, 49, 55, 61]])}\n",
      "###\n",
      "{1: array([[ 1,  7, 16, 22, 39, 47],\n",
      "       [ 3,  8, 17, 29, 41, 50],\n",
      "       [ 4, 10, 18, 32, 42, 51],\n",
      "       [ 5, 11, 19, 33, 43, 52],\n",
      "       [ 6, 13, 20, 35, 46, 58]]),\n",
      " 2: array([[ 1,  9, 16, 26, 35, 49],\n",
      "       [ 2, 12, 17, 27, 36, 51],\n",
      "       [ 3, 13, 19, 28, 37, 52],\n",
      "       [ 7, 14, 21, 32, 39, 53],\n",
      "       [ 8, 15, 22, 33, 48, 56]]),\n",
      " 3: array([[ 1, 12, 23, 33, 42, 51],\n",
      "       [ 2, 13, 25, 36, 43, 54],\n",
      "       [ 7, 14, 27, 38, 47, 55],\n",
      "       [ 9, 15, 29, 39, 49, 58],\n",
      "       [11, 16, 30, 40, 50, 60]]),\n",
      " 4: array([[ 2, 11, 19, 25, 36, 56],\n",
      "       [ 6, 12, 20, 26, 38, 57],\n",
      "       [ 7, 13, 22, 29, 42, 59],\n",
      "       [ 8, 16, 23, 31, 48, 60],\n",
      "       [10, 18, 24, 35, 49, 61]]),\n",
      " 5: array([[ 3, 11, 19, 36, 44, 51],\n",
      "       [ 5, 14, 24, 37, 46, 53],\n",
      "       [ 6, 15, 26, 38, 48, 54],\n",
      "       [ 7, 17, 29, 39, 49, 58],\n",
      "       [ 8, 18, 34, 40, 50, 60]]),\n",
      " 6: array([[ 1,  9, 22, 30, 42, 50],\n",
      "       [ 2, 13, 24, 34, 43, 51],\n",
      "       [ 3, 15, 25, 38, 45, 52],\n",
      "       [ 5, 18, 28, 40, 48, 53],\n",
      "       [ 8, 20, 29, 41, 49, 56]])}\n"
     ]
    }
   ],
   "source": [
    "pprint(boxDict)\n",
    "print(\"###\")\n",
    "pprint(boxDictRandom)"
   ]
  },
  {
   "cell_type": "code",
   "execution_count": 272,
   "metadata": {},
   "outputs": [
    {
     "data": {
      "text/plain": [
       "[42, 57, 58]"
      ]
     },
     "execution_count": 272,
     "metadata": {},
     "output_type": "execute_result"
    }
   ],
   "source": [
    "# audience sees a number and tells you in which boxes they are; example 1, 2, 3, 4\n",
    "# we start at the first position for each box and check which the highest of the box is\n",
    "# if this number is not in all of the boxes, we choose the highest number of the next position\n",
    "# and continue until we find one that is in all 4\n",
    "# then we double check if that number is in one of the other boxes, if not, we have found our number\n",
    "# else we continue\n",
    "# note that in the scenario where we have kept the order of our original number selection, we can simply pick the first number\n",
    "boxCombo = [1, 2, 3, 4]\n",
    "\n",
    "candidates = []\n",
    "for key, value in Counter(np.array(list(itertools.chain([boxDict[box] for box in boxCombo]))).flatten()).items():\n",
    "    if value==4:\n",
    "        candidates.append(key)\n",
    "candidates"
   ]
  },
  {
   "cell_type": "code",
   "execution_count": 273,
   "metadata": {},
   "outputs": [
    {
     "data": {
      "text/plain": [
       "{42: [1, 2, 3, 4], 57: [1, 2, 3, 4, 5], 58: [1, 2, 3, 4, 6]}"
      ]
     },
     "execution_count": 273,
     "metadata": {},
     "output_type": "execute_result"
    }
   ],
   "source": [
    "candidateBoxes = {candidate:[] for candidate in candidates}\n",
    "for candidate in candidateBoxes:\n",
    "    for n, box in boxDict.items():\n",
    "        if candidate in box:\n",
    "            candidateBoxes[candidate].append(n)\n",
    "candidateBoxes"
   ]
  },
  {
   "cell_type": "code",
   "execution_count": 303,
   "metadata": {},
   "outputs": [
    {
     "data": {
      "text/plain": [
       "[7, 16, 13]"
      ]
     },
     "execution_count": 303,
     "metadata": {},
     "output_type": "execute_result"
    }
   ],
   "source": [
    "# to show with the random selection, we can't rely on the first confirmation and need to check further\n",
    "boxCombo = [1, 2, 3, 4]\n",
    "\n",
    "candidates = []\n",
    "for key, value in Counter(np.array(list(itertools.chain([boxDictRandom[box] for box in boxCombo]))).flatten()).items():\n",
    "    if value==4:\n",
    "        candidates.append(key)\n",
    "candidates"
   ]
  },
  {
   "cell_type": "code",
   "execution_count": 304,
   "metadata": {},
   "outputs": [
    {
     "data": {
      "text/plain": [
       "{7: [1, 2, 3, 4, 5], 16: [1, 2, 3, 4], 13: [1, 2, 3, 4, 6]}"
      ]
     },
     "execution_count": 304,
     "metadata": {},
     "output_type": "execute_result"
    }
   ],
   "source": [
    "candidateBoxes = {candidate:[] for candidate in candidates}\n",
    "for candidate in candidateBoxes:\n",
    "    for n, box in boxDictRandom.items():\n",
    "        if candidate in box:\n",
    "            candidateBoxes[candidate].append(n)\n",
    "candidateBoxes"
   ]
  }
 ],
 "metadata": {
  "kernelspec": {
   "display_name": "Python 3",
   "language": "python",
   "name": "python3"
  },
  "language_info": {
   "codemirror_mode": {
    "name": "ipython",
    "version": 3
   },
   "file_extension": ".py",
   "mimetype": "text/x-python",
   "name": "python",
   "nbconvert_exporter": "python",
   "pygments_lexer": "ipython3",
   "version": "3.7.6"
  }
 },
 "nbformat": 4,
 "nbformat_minor": 4
}
